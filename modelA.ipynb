{
  "nbformat": 4,
  "nbformat_minor": 0,
  "metadata": {
    "colab": {
      "name": "modelA.ipynb",
      "provenance": [],
      "collapsed_sections": []
    },
    "kernelspec": {
      "name": "python3",
      "display_name": "Python 3"
    },
    "accelerator": "GPU"
  },
  "cells": [
    {
      "cell_type": "code",
      "metadata": {
        "id": "F3vTCJYpyWqA",
        "colab": {
          "base_uri": "https://localhost:8080/",
          "height": 124
        },
        "outputId": "f5982254-1ee3-4f19-ae95-c74aa4260a85"
      },
      "source": [
        "from google.colab import drive\n",
        "drive.mount('/content/drive')"
      ],
      "execution_count": null,
      "outputs": [
        {
          "output_type": "stream",
          "text": [
            "Go to this URL in a browser: https://accounts.google.com/o/oauth2/auth?client_id=947318989803-6bn6qk8qdgf4n4g3pfee6491hc0brc4i.apps.googleusercontent.com&redirect_uri=urn%3aietf%3awg%3aoauth%3a2.0%3aoob&response_type=code&scope=email%20https%3a%2f%2fwww.googleapis.com%2fauth%2fdocs.test%20https%3a%2f%2fwww.googleapis.com%2fauth%2fdrive%20https%3a%2f%2fwww.googleapis.com%2fauth%2fdrive.photos.readonly%20https%3a%2f%2fwww.googleapis.com%2fauth%2fpeopleapi.readonly\n",
            "\n",
            "Enter your authorization code:\n",
            "··········\n",
            "Mounted at /content/drive\n"
          ],
          "name": "stdout"
        }
      ]
    },
    {
      "cell_type": "code",
      "metadata": {
        "id": "iaEWGlY0xpL4",
        "colab": {
          "base_uri": "https://localhost:8080/",
          "height": 99
        },
        "outputId": "ee10c98e-8444-4e74-fa36-0955324bc7a4"
      },
      "source": [
        "import os\n",
        "import json\n",
        "import gc\n",
        "\n",
        "import cv2\n",
        "import keras\n",
        "from keras import backend as K\n",
        "from keras import layers\n",
        "from keras.preprocessing.image import ImageDataGenerator\n",
        "from keras.models import Model, load_model\n",
        "from keras.layers import Input\n",
        "from keras.layers.convolutional import Conv2D, Conv2DTranspose\n",
        "from keras.layers.pooling import MaxPooling2D\n",
        "from keras.layers.merge import concatenate\n",
        "from keras.optimizers import Adam\n",
        "from keras.callbacks import Callback, ModelCheckpoint\n",
        "import matplotlib.pyplot as plt\n",
        "import numpy as np\n",
        "import pandas as pd\n",
        "from tqdm import tqdm\n",
        "from sklearn.model_selection import train_test_split\n"
      ],
      "execution_count": null,
      "outputs": [
        {
          "output_type": "stream",
          "text": [
            "Using TensorFlow backend.\n"
          ],
          "name": "stderr"
        },
        {
          "output_type": "display_data",
          "data": {
            "text/html": [
              "<p style=\"color: red;\">\n",
              "The default version of TensorFlow in Colab will soon switch to TensorFlow 2.x.<br>\n",
              "We recommend you <a href=\"https://www.tensorflow.org/guide/migrate\" target=\"_blank\">upgrade</a> now \n",
              "or ensure your notebook will continue to use TensorFlow 1.x via the <code>%tensorflow_version 1.x</code> magic:\n",
              "<a href=\"https://colab.research.google.com/notebooks/tensorflow_version.ipynb\" target=\"_blank\">more info</a>.</p>\n"
            ],
            "text/plain": [
              "<IPython.core.display.HTML object>"
            ]
          },
          "metadata": {
            "tags": []
          }
        }
      ]
    },
    {
      "cell_type": "code",
      "metadata": {
        "id": "c0CArXE9yj8b",
        "colab": {
          "base_uri": "https://localhost:8080/",
          "height": 219
        },
        "outputId": "0cb03932-ceda-4adc-a56e-05488cd91610"
      },
      "source": [
        "\n",
        "\n",
        "train_df = pd.read_csv('/content/drive/My Drive/train.csv')\n",
        "train_df['ImageId'] = train_df['ImageId_ClassId'].apply(lambda x: x.split('_')[0])\n",
        "train_df['ClassId'] = train_df['ImageId_ClassId'].apply(lambda x: x.split('_')[1])\n",
        "train_df['hasMask'] = ~ train_df['EncodedPixels'].isna()\n",
        "\n",
        "print(train_df.shape)\n",
        "train_df.head()\n",
        "\n"
      ],
      "execution_count": null,
      "outputs": [
        {
          "output_type": "stream",
          "text": [
            "(50272, 5)\n"
          ],
          "name": "stdout"
        },
        {
          "output_type": "execute_result",
          "data": {
            "text/html": [
              "<div>\n",
              "<style scoped>\n",
              "    .dataframe tbody tr th:only-of-type {\n",
              "        vertical-align: middle;\n",
              "    }\n",
              "\n",
              "    .dataframe tbody tr th {\n",
              "        vertical-align: top;\n",
              "    }\n",
              "\n",
              "    .dataframe thead th {\n",
              "        text-align: right;\n",
              "    }\n",
              "</style>\n",
              "<table border=\"1\" class=\"dataframe\">\n",
              "  <thead>\n",
              "    <tr style=\"text-align: right;\">\n",
              "      <th></th>\n",
              "      <th>ImageId_ClassId</th>\n",
              "      <th>EncodedPixels</th>\n",
              "      <th>ImageId</th>\n",
              "      <th>ClassId</th>\n",
              "      <th>hasMask</th>\n",
              "    </tr>\n",
              "  </thead>\n",
              "  <tbody>\n",
              "    <tr>\n",
              "      <th>0</th>\n",
              "      <td>0002cc93b.jpg_1</td>\n",
              "      <td>29102 12 29346 24 29602 24 29858 24 30114 24 3...</td>\n",
              "      <td>0002cc93b.jpg</td>\n",
              "      <td>1</td>\n",
              "      <td>True</td>\n",
              "    </tr>\n",
              "    <tr>\n",
              "      <th>1</th>\n",
              "      <td>0002cc93b.jpg_2</td>\n",
              "      <td>NaN</td>\n",
              "      <td>0002cc93b.jpg</td>\n",
              "      <td>2</td>\n",
              "      <td>False</td>\n",
              "    </tr>\n",
              "    <tr>\n",
              "      <th>2</th>\n",
              "      <td>0002cc93b.jpg_3</td>\n",
              "      <td>NaN</td>\n",
              "      <td>0002cc93b.jpg</td>\n",
              "      <td>3</td>\n",
              "      <td>False</td>\n",
              "    </tr>\n",
              "    <tr>\n",
              "      <th>3</th>\n",
              "      <td>0002cc93b.jpg_4</td>\n",
              "      <td>NaN</td>\n",
              "      <td>0002cc93b.jpg</td>\n",
              "      <td>4</td>\n",
              "      <td>False</td>\n",
              "    </tr>\n",
              "    <tr>\n",
              "      <th>4</th>\n",
              "      <td>00031f466.jpg_1</td>\n",
              "      <td>NaN</td>\n",
              "      <td>00031f466.jpg</td>\n",
              "      <td>1</td>\n",
              "      <td>False</td>\n",
              "    </tr>\n",
              "  </tbody>\n",
              "</table>\n",
              "</div>"
            ],
            "text/plain": [
              "   ImageId_ClassId  ... hasMask\n",
              "0  0002cc93b.jpg_1  ...    True\n",
              "1  0002cc93b.jpg_2  ...   False\n",
              "2  0002cc93b.jpg_3  ...   False\n",
              "3  0002cc93b.jpg_4  ...   False\n",
              "4  00031f466.jpg_1  ...   False\n",
              "\n",
              "[5 rows x 5 columns]"
            ]
          },
          "metadata": {
            "tags": []
          },
          "execution_count": 3
        }
      ]
    },
    {
      "cell_type": "code",
      "metadata": {
        "id": "eEuhNlY5zQUn",
        "colab": {
          "base_uri": "https://localhost:8080/",
          "height": 219
        },
        "outputId": "a2e47860-1684-4505-f297-75a1e992e7c0"
      },
      "source": [
        "mask_count_df = train_df.groupby('ImageId').agg(np.sum).reset_index()\n",
        "mask_count_df.sort_values('hasMask', ascending=False, inplace=True)\n",
        "print(mask_count_df.shape)\n",
        "mask_count_df.head()"
      ],
      "execution_count": null,
      "outputs": [
        {
          "output_type": "stream",
          "text": [
            "(12568, 2)\n"
          ],
          "name": "stdout"
        },
        {
          "output_type": "execute_result",
          "data": {
            "text/html": [
              "<div>\n",
              "<style scoped>\n",
              "    .dataframe tbody tr th:only-of-type {\n",
              "        vertical-align: middle;\n",
              "    }\n",
              "\n",
              "    .dataframe tbody tr th {\n",
              "        vertical-align: top;\n",
              "    }\n",
              "\n",
              "    .dataframe thead th {\n",
              "        text-align: right;\n",
              "    }\n",
              "</style>\n",
              "<table border=\"1\" class=\"dataframe\">\n",
              "  <thead>\n",
              "    <tr style=\"text-align: right;\">\n",
              "      <th></th>\n",
              "      <th>ImageId</th>\n",
              "      <th>hasMask</th>\n",
              "    </tr>\n",
              "  </thead>\n",
              "  <tbody>\n",
              "    <tr>\n",
              "      <th>10803</th>\n",
              "      <td>db4867ee8.jpg</td>\n",
              "      <td>3.0</td>\n",
              "    </tr>\n",
              "    <tr>\n",
              "      <th>11776</th>\n",
              "      <td>ef24da2ba.jpg</td>\n",
              "      <td>3.0</td>\n",
              "    </tr>\n",
              "    <tr>\n",
              "      <th>6284</th>\n",
              "      <td>7f30b9c64.jpg</td>\n",
              "      <td>2.0</td>\n",
              "    </tr>\n",
              "    <tr>\n",
              "      <th>9421</th>\n",
              "      <td>bf0c81db6.jpg</td>\n",
              "      <td>2.0</td>\n",
              "    </tr>\n",
              "    <tr>\n",
              "      <th>9615</th>\n",
              "      <td>c314f43f3.jpg</td>\n",
              "      <td>2.0</td>\n",
              "    </tr>\n",
              "  </tbody>\n",
              "</table>\n",
              "</div>"
            ],
            "text/plain": [
              "             ImageId  hasMask\n",
              "10803  db4867ee8.jpg      3.0\n",
              "11776  ef24da2ba.jpg      3.0\n",
              "6284   7f30b9c64.jpg      2.0\n",
              "9421   bf0c81db6.jpg      2.0\n",
              "9615   c314f43f3.jpg      2.0"
            ]
          },
          "metadata": {
            "tags": []
          },
          "execution_count": 4
        }
      ]
    },
    {
      "cell_type": "code",
      "metadata": {
        "id": "emwld8YKzijT",
        "colab": {
          "base_uri": "https://localhost:8080/",
          "height": 202
        },
        "outputId": "b8697032-6769-4d89-90a4-56129c69ea3d"
      },
      "source": [
        "\n",
        "\n",
        "sub_df = pd.read_csv('/content/drive/My Drive/sample_submission.csv')\n",
        "sub_df['ImageId'] = sub_df['ImageId_ClassId'].apply(lambda x: x.split('_')[0])\n",
        "test_imgs = pd.DataFrame(sub_df['ImageId'].unique(), columns=['ImageId'])\n",
        "test_imgs.head()\n",
        "\n"
      ],
      "execution_count": null,
      "outputs": [
        {
          "output_type": "execute_result",
          "data": {
            "text/html": [
              "<div>\n",
              "<style scoped>\n",
              "    .dataframe tbody tr th:only-of-type {\n",
              "        vertical-align: middle;\n",
              "    }\n",
              "\n",
              "    .dataframe tbody tr th {\n",
              "        vertical-align: top;\n",
              "    }\n",
              "\n",
              "    .dataframe thead th {\n",
              "        text-align: right;\n",
              "    }\n",
              "</style>\n",
              "<table border=\"1\" class=\"dataframe\">\n",
              "  <thead>\n",
              "    <tr style=\"text-align: right;\">\n",
              "      <th></th>\n",
              "      <th>ImageId</th>\n",
              "    </tr>\n",
              "  </thead>\n",
              "  <tbody>\n",
              "    <tr>\n",
              "      <th>0</th>\n",
              "      <td>004f40c73.jpg</td>\n",
              "    </tr>\n",
              "    <tr>\n",
              "      <th>1</th>\n",
              "      <td>006f39c41.jpg</td>\n",
              "    </tr>\n",
              "    <tr>\n",
              "      <th>2</th>\n",
              "      <td>00b7fb703.jpg</td>\n",
              "    </tr>\n",
              "    <tr>\n",
              "      <th>3</th>\n",
              "      <td>00bbcd9af.jpg</td>\n",
              "    </tr>\n",
              "    <tr>\n",
              "      <th>4</th>\n",
              "      <td>0108ce457.jpg</td>\n",
              "    </tr>\n",
              "  </tbody>\n",
              "</table>\n",
              "</div>"
            ],
            "text/plain": [
              "         ImageId\n",
              "0  004f40c73.jpg\n",
              "1  006f39c41.jpg\n",
              "2  00b7fb703.jpg\n",
              "3  00bbcd9af.jpg\n",
              "4  0108ce457.jpg"
            ]
          },
          "metadata": {
            "tags": []
          },
          "execution_count": 5
        }
      ]
    },
    {
      "cell_type": "code",
      "metadata": {
        "id": "sVNvp8Aaz8kg",
        "colab": {
          "base_uri": "https://localhost:8080/",
          "height": 202
        },
        "outputId": "adc4c5ae-4e94-43c4-b67b-f1a38dcf45fa"
      },
      "source": [
        "\n",
        "\n",
        "non_missing_train_idx = mask_count_df[mask_count_df['hasMask'] > 0]\n",
        "non_missing_train_idx.head()\n",
        "\n"
      ],
      "execution_count": null,
      "outputs": [
        {
          "output_type": "execute_result",
          "data": {
            "text/html": [
              "<div>\n",
              "<style scoped>\n",
              "    .dataframe tbody tr th:only-of-type {\n",
              "        vertical-align: middle;\n",
              "    }\n",
              "\n",
              "    .dataframe tbody tr th {\n",
              "        vertical-align: top;\n",
              "    }\n",
              "\n",
              "    .dataframe thead th {\n",
              "        text-align: right;\n",
              "    }\n",
              "</style>\n",
              "<table border=\"1\" class=\"dataframe\">\n",
              "  <thead>\n",
              "    <tr style=\"text-align: right;\">\n",
              "      <th></th>\n",
              "      <th>ImageId</th>\n",
              "      <th>hasMask</th>\n",
              "    </tr>\n",
              "  </thead>\n",
              "  <tbody>\n",
              "    <tr>\n",
              "      <th>10803</th>\n",
              "      <td>db4867ee8.jpg</td>\n",
              "      <td>3.0</td>\n",
              "    </tr>\n",
              "    <tr>\n",
              "      <th>11776</th>\n",
              "      <td>ef24da2ba.jpg</td>\n",
              "      <td>3.0</td>\n",
              "    </tr>\n",
              "    <tr>\n",
              "      <th>6284</th>\n",
              "      <td>7f30b9c64.jpg</td>\n",
              "      <td>2.0</td>\n",
              "    </tr>\n",
              "    <tr>\n",
              "      <th>9421</th>\n",
              "      <td>bf0c81db6.jpg</td>\n",
              "      <td>2.0</td>\n",
              "    </tr>\n",
              "    <tr>\n",
              "      <th>9615</th>\n",
              "      <td>c314f43f3.jpg</td>\n",
              "      <td>2.0</td>\n",
              "    </tr>\n",
              "  </tbody>\n",
              "</table>\n",
              "</div>"
            ],
            "text/plain": [
              "             ImageId  hasMask\n",
              "10803  db4867ee8.jpg      3.0\n",
              "11776  ef24da2ba.jpg      3.0\n",
              "6284   7f30b9c64.jpg      2.0\n",
              "9421   bf0c81db6.jpg      2.0\n",
              "9615   c314f43f3.jpg      2.0"
            ]
          },
          "metadata": {
            "tags": []
          },
          "execution_count": 6
        }
      ]
    },
    {
      "cell_type": "code",
      "metadata": {
        "id": "WtEVGX2wz_BD"
      },
      "source": [
        "def load_img(code, base, resize=True):\n",
        "    path = f'{base}/{code}'\n",
        "    img = cv2.imread(path)\n",
        "    img = cv2.cvtColor(img, cv2.COLOR_BGR2RGB)\n",
        "    if resize:\n",
        "        img = cv2.resize(img, (256, 256))\n",
        "    \n",
        "    return img\n",
        "\n",
        "def validate_path(path):\n",
        "    if not os.path.exists(path):\n",
        "        os.makedirs(path)\n",
        "\n"
      ],
      "execution_count": null,
      "outputs": []
    },
    {
      "cell_type": "code",
      "metadata": {
        "id": "AwFvQA570DFL",
        "colab": {
          "base_uri": "https://localhost:8080/",
          "height": 35
        },
        "outputId": "f2ba5c76-4ddc-4960-8bb0-2edb351aae51"
      },
      "source": [
        "BATCH_SIZE = 64\n",
        "def create_test_gen():\n",
        "    return ImageDataGenerator(rescale=1/255.).flow_from_dataframe(\n",
        "        test_imgs,\n",
        "        directory='/content/drive/My Drive/Colab Notebooks/test_images',\n",
        "        x_col='ImageId',\n",
        "        class_mode=None,\n",
        "        target_size=(256, 256),\n",
        "        batch_size=BATCH_SIZE,\n",
        "        shuffle=False\n",
        "    )\n",
        "\n",
        "test_gen = create_test_gen()"
      ],
      "execution_count": null,
      "outputs": [
        {
          "output_type": "stream",
          "text": [
            "Found 1801 validated image filenames.\n"
          ],
          "name": "stdout"
        }
      ]
    },
    {
      "cell_type": "code",
      "metadata": {
        "id": "m8r2--gx0Ycr"
      },
      "source": [
        "class DataGenerator(keras.utils.Sequence):\n",
        "    'Generates data for Keras'\n",
        "    def __init__(self, list_IDs, df, target_df=None, mode='fit',\n",
        "                 base_path='/content/drive/My Drive/Colab Notebooks/train_images',\n",
        "                 batch_size=32, dim=(256, 1600), n_channels=1,\n",
        "                 n_classes=4, random_state=2019, shuffle=True):\n",
        "        self.dim = dim\n",
        "        self.batch_size = batch_size\n",
        "        self.df = df\n",
        "        self.mode = mode\n",
        "        self.base_path = base_path\n",
        "        self.target_df = target_df\n",
        "        self.list_IDs = list_IDs\n",
        "        self.n_channels = n_channels\n",
        "        self.n_classes = n_classes\n",
        "        self.shuffle = shuffle\n",
        "        self.random_state = random_state\n",
        "        \n",
        "        self.on_epoch_end()\n",
        "\n",
        "    def __len__(self):\n",
        "        'Denotes the number of batches per epoch'\n",
        "        return int(np.floor(len(self.list_IDs) / self.batch_size))\n",
        "\n",
        "    def __getitem__(self, index):\n",
        "        'Generate one batch of data'\n",
        "        # Generate indexes of the batch\n",
        "        indexes = self.indexes[index*self.batch_size:(index+1)*self.batch_size]\n",
        "\n",
        "        # Find list of IDs\n",
        "        list_IDs_batch = [self.list_IDs[k] for k in indexes]\n",
        "        \n",
        "        X = self.__generate_X(list_IDs_batch)\n",
        "        \n",
        "        if self.mode == 'fit':\n",
        "            y = self.__generate_y(list_IDs_batch)\n",
        "            return X, y\n",
        "        \n",
        "        elif self.mode == 'predict':\n",
        "            return X\n",
        "\n",
        "        else:\n",
        "            raise AttributeError('The mode parameter should be set to \"fit\" or \"predict\".')\n",
        "        \n",
        "    def on_epoch_end(self):\n",
        "        'Updates indexes after each epoch'\n",
        "        self.indexes = np.arange(len(self.list_IDs))\n",
        "        if self.shuffle == True:\n",
        "            np.random.seed(self.random_state)\n",
        "            np.random.shuffle(self.indexes)\n",
        "    \n",
        "    def __generate_X(self, list_IDs_batch):\n",
        "        'Generates data containing batch_size samples'\n",
        "        # Initialization\n",
        "        X = np.empty((self.batch_size, *self.dim, self.n_channels))\n",
        "        \n",
        "        # Generate data\n",
        "        for i, ID in enumerate(list_IDs_batch):\n",
        "            im_name = self.df['ImageId'].iloc[ID]\n",
        "            img_path = f\"{self.base_path}/{im_name}\"\n",
        "            img = self.__load_grayscale(img_path)\n",
        "            \n",
        "            # Store samples\n",
        "            X[i,] = img\n",
        "\n",
        "        return X\n",
        "    \n",
        "    def __generate_y(self, list_IDs_batch):\n",
        "        y = np.empty((self.batch_size, *self.dim, self.n_classes), dtype=int)\n",
        "        \n",
        "        for i, ID in enumerate(list_IDs_batch):\n",
        "            im_name = self.df['ImageId'].iloc[ID]\n",
        "            image_df = self.target_df[self.target_df['ImageId'] == im_name]\n",
        "            \n",
        "            rles = image_df['EncodedPixels'].values\n",
        "            masks = build_masks(rles, input_shape=self.dim)\n",
        "            \n",
        "            y[i, ] = masks\n",
        "\n",
        "        return y\n",
        "    \n",
        "    def __load_grayscale(self, img_path):\n",
        "        img = cv2.imread(img_path, cv2.IMREAD_GRAYSCALE)\n",
        "        img = img.astype(np.float32) / 255.\n",
        "        img = np.expand_dims(img, axis=-1)\n",
        "\n",
        "        return img\n",
        "    \n",
        "    def __load_rgb(self, img_path):\n",
        "        img = cv2.imread(img_path)\n",
        "        img = cv2.cvtColor(img, cv2.COLOR_BGR2RGB)\n",
        "        img = img.astype(np.float32) / 255.\n",
        "\n",
        "        return img"
      ],
      "execution_count": null,
      "outputs": []
    },
    {
      "cell_type": "code",
      "metadata": {
        "id": "7i5Xhpzx7_T2"
      },
      "source": [
        "BATCH_SIZE = 16\n",
        "\n",
        "train_idx, val_idx = train_test_split(\n",
        "    non_missing_train_idx.index,  # NOTICE DIFFERENCE\n",
        "    random_state=2019, \n",
        "    test_size=0.15\n",
        ")\n",
        "\n",
        "train_generator = DataGenerator(\n",
        "    train_idx, \n",
        "    df=mask_count_df,\n",
        "    target_df=train_df,\n",
        "    batch_size=BATCH_SIZE, \n",
        "    n_classes=4\n",
        ")\n",
        "\n",
        "val_generator = DataGenerator(\n",
        "    val_idx, \n",
        "    df=mask_count_df,\n",
        "    target_df=train_df,\n",
        "    batch_size=BATCH_SIZE, \n",
        "    n_classes=4\n",
        ")"
      ],
      "execution_count": null,
      "outputs": []
    },
    {
      "cell_type": "code",
      "metadata": {
        "id": "UlC5VUHm96SH"
      },
      "source": [
        "def dice_coef(y_true, y_pred, smooth=1):\n",
        "    y_true_f = K.flatten(y_true)\n",
        "    y_pred_f = K.flatten(y_pred)\n",
        "    intersection = K.sum(y_true_f * y_pred_f)\n",
        "    return (2. * intersection + smooth) / (K.sum(y_true_f) + K.sum(y_pred_f) + smooth)"
      ],
      "execution_count": null,
      "outputs": []
    },
    {
      "cell_type": "code",
      "metadata": {
        "id": "UZkWL3Qz9_LD"
      },
      "source": [
        "def build_model(input_shape):\n",
        "    inputs = Input(input_shape)\n",
        "\n",
        "    c1 = Conv2D(8, (3, 3), activation='relu', padding='same') (inputs)\n",
        "    c1 = Conv2D(8, (3, 3), activation='relu', padding='same') (c1)\n",
        "    p1 = MaxPooling2D((2, 2)) (c1)\n",
        "\n",
        "    c2 = Conv2D(16, (3, 3), activation='relu', padding='same') (p1)\n",
        "    c2 = Conv2D(16, (3, 3), activation='relu', padding='same') (c2)\n",
        "    p2 = MaxPooling2D((2, 2)) (c2)\n",
        "\n",
        "    c3 = Conv2D(32, (3, 3), activation='relu', padding='same') (p2)\n",
        "    c3 = Conv2D(32, (3, 3), activation='relu', padding='same') (c3)\n",
        "    p3 = MaxPooling2D((2, 2)) (c3)\n",
        "\n",
        "    c4 = Conv2D(64, (3, 3), activation='relu', padding='same') (p3)\n",
        "    c4 = Conv2D(64, (3, 3), activation='relu', padding='same') (c4)\n",
        "    p4 = MaxPooling2D(pool_size=(2, 2)) (c4)\n",
        "\n",
        "    c5 = Conv2D(64, (3, 3), activation='relu', padding='same') (p4)\n",
        "    c5 = Conv2D(64, (3, 3), activation='relu', padding='same') (c5)\n",
        "    p5 = MaxPooling2D(pool_size=(2, 2)) (c5)\n",
        "\n",
        "    c55 = Conv2D(128, (3, 3), activation='relu', padding='same') (p5)\n",
        "    c55 = Conv2D(128, (3, 3), activation='relu', padding='same') (c55)\n",
        "\n",
        "    u6 = Conv2DTranspose(64, (2, 2), strides=(2, 2), padding='same') (c55)\n",
        "    u6 = concatenate([u6, c5])\n",
        "    c6 = Conv2D(64, (3, 3), activation='relu', padding='same') (u6)\n",
        "    c6 = Conv2D(64, (3, 3), activation='relu', padding='same') (c6)\n",
        "\n",
        "    u71 = Conv2DTranspose(32, (2, 2), strides=(2, 2), padding='same') (c6)\n",
        "    u71 = concatenate([u71, c4])\n",
        "    c71 = Conv2D(32, (3, 3), activation='relu', padding='same') (u71)\n",
        "    c61 = Conv2D(32, (3, 3), activation='relu', padding='same') (c71)\n",
        "\n",
        "    u7 = Conv2DTranspose(32, (2, 2), strides=(2, 2), padding='same') (c61)\n",
        "    u7 = concatenate([u7, c3])\n",
        "    c7 = Conv2D(32, (3, 3), activation='relu', padding='same') (u7)\n",
        "    c7 = Conv2D(32, (3, 3), activation='relu', padding='same') (c7)\n",
        "\n",
        "    u8 = Conv2DTranspose(16, (2, 2), strides=(2, 2), padding='same') (c7)\n",
        "    u8 = concatenate([u8, c2])\n",
        "    c8 = Conv2D(16, (3, 3), activation='relu', padding='same') (u8)\n",
        "    c8 = Conv2D(16, (3, 3), activation='relu', padding='same') (c8)\n",
        "\n",
        "    u9 = Conv2DTranspose(8, (2, 2), strides=(2, 2), padding='same') (c8)\n",
        "    u9 = concatenate([u9, c1], axis=3)\n",
        "    c9 = Conv2D(8, (3, 3), activation='relu', padding='same') (u9)\n",
        "    c9 = Conv2D(8, (3, 3), activation='relu', padding='same') (c9)\n",
        "\n",
        "    outputs = Conv2D(4, (1, 1), activation='sigmoid') (c9)\n",
        "\n",
        "    model = Model(inputs=[inputs], outputs=[outputs])\n",
        "    model.compile(optimizer='adam', loss='binary_crossentropy', metrics=[dice_coef])\n",
        "    \n",
        "    return model"
      ],
      "execution_count": null,
      "outputs": []
    },
    {
      "cell_type": "code",
      "metadata": {
        "id": "triFyM1b-HDh",
        "colab": {
          "base_uri": "https://localhost:8080/",
          "height": 1000
        },
        "outputId": "d8caf034-86e6-4aec-fa9c-5838978af38a"
      },
      "source": [
        "model = build_model((256, 1600, 1))\n",
        "model.summary()"
      ],
      "execution_count": null,
      "outputs": [
        {
          "output_type": "stream",
          "text": [
            "WARNING:tensorflow:From /usr/local/lib/python3.6/dist-packages/keras/backend/tensorflow_backend.py:66: The name tf.get_default_graph is deprecated. Please use tf.compat.v1.get_default_graph instead.\n",
            "\n",
            "WARNING:tensorflow:From /usr/local/lib/python3.6/dist-packages/keras/backend/tensorflow_backend.py:541: The name tf.placeholder is deprecated. Please use tf.compat.v1.placeholder instead.\n",
            "\n",
            "WARNING:tensorflow:From /usr/local/lib/python3.6/dist-packages/keras/backend/tensorflow_backend.py:4432: The name tf.random_uniform is deprecated. Please use tf.random.uniform instead.\n",
            "\n",
            "WARNING:tensorflow:From /usr/local/lib/python3.6/dist-packages/keras/backend/tensorflow_backend.py:4267: The name tf.nn.max_pool is deprecated. Please use tf.nn.max_pool2d instead.\n",
            "\n",
            "WARNING:tensorflow:From /usr/local/lib/python3.6/dist-packages/keras/optimizers.py:793: The name tf.train.Optimizer is deprecated. Please use tf.compat.v1.train.Optimizer instead.\n",
            "\n",
            "WARNING:tensorflow:From /usr/local/lib/python3.6/dist-packages/keras/backend/tensorflow_backend.py:3657: The name tf.log is deprecated. Please use tf.math.log instead.\n",
            "\n",
            "WARNING:tensorflow:From /usr/local/lib/python3.6/dist-packages/tensorflow_core/python/ops/nn_impl.py:183: where (from tensorflow.python.ops.array_ops) is deprecated and will be removed in a future version.\n",
            "Instructions for updating:\n",
            "Use tf.where in 2.0, which has the same broadcast rule as np.where\n",
            "Model: \"model_1\"\n",
            "__________________________________________________________________________________________________\n",
            "Layer (type)                    Output Shape         Param #     Connected to                     \n",
            "==================================================================================================\n",
            "input_1 (InputLayer)            (None, 256, 1600, 1) 0                                            \n",
            "__________________________________________________________________________________________________\n",
            "conv2d_1 (Conv2D)               (None, 256, 1600, 8) 80          input_1[0][0]                    \n",
            "__________________________________________________________________________________________________\n",
            "conv2d_2 (Conv2D)               (None, 256, 1600, 8) 584         conv2d_1[0][0]                   \n",
            "__________________________________________________________________________________________________\n",
            "max_pooling2d_1 (MaxPooling2D)  (None, 128, 800, 8)  0           conv2d_2[0][0]                   \n",
            "__________________________________________________________________________________________________\n",
            "conv2d_3 (Conv2D)               (None, 128, 800, 16) 1168        max_pooling2d_1[0][0]            \n",
            "__________________________________________________________________________________________________\n",
            "conv2d_4 (Conv2D)               (None, 128, 800, 16) 2320        conv2d_3[0][0]                   \n",
            "__________________________________________________________________________________________________\n",
            "max_pooling2d_2 (MaxPooling2D)  (None, 64, 400, 16)  0           conv2d_4[0][0]                   \n",
            "__________________________________________________________________________________________________\n",
            "conv2d_5 (Conv2D)               (None, 64, 400, 32)  4640        max_pooling2d_2[0][0]            \n",
            "__________________________________________________________________________________________________\n",
            "conv2d_6 (Conv2D)               (None, 64, 400, 32)  9248        conv2d_5[0][0]                   \n",
            "__________________________________________________________________________________________________\n",
            "max_pooling2d_3 (MaxPooling2D)  (None, 32, 200, 32)  0           conv2d_6[0][0]                   \n",
            "__________________________________________________________________________________________________\n",
            "conv2d_7 (Conv2D)               (None, 32, 200, 64)  18496       max_pooling2d_3[0][0]            \n",
            "__________________________________________________________________________________________________\n",
            "conv2d_8 (Conv2D)               (None, 32, 200, 64)  36928       conv2d_7[0][0]                   \n",
            "__________________________________________________________________________________________________\n",
            "max_pooling2d_4 (MaxPooling2D)  (None, 16, 100, 64)  0           conv2d_8[0][0]                   \n",
            "__________________________________________________________________________________________________\n",
            "conv2d_9 (Conv2D)               (None, 16, 100, 64)  36928       max_pooling2d_4[0][0]            \n",
            "__________________________________________________________________________________________________\n",
            "conv2d_10 (Conv2D)              (None, 16, 100, 64)  36928       conv2d_9[0][0]                   \n",
            "__________________________________________________________________________________________________\n",
            "max_pooling2d_5 (MaxPooling2D)  (None, 8, 50, 64)    0           conv2d_10[0][0]                  \n",
            "__________________________________________________________________________________________________\n",
            "conv2d_11 (Conv2D)              (None, 8, 50, 128)   73856       max_pooling2d_5[0][0]            \n",
            "__________________________________________________________________________________________________\n",
            "conv2d_12 (Conv2D)              (None, 8, 50, 128)   147584      conv2d_11[0][0]                  \n",
            "__________________________________________________________________________________________________\n",
            "conv2d_transpose_1 (Conv2DTrans (None, 16, 100, 64)  32832       conv2d_12[0][0]                  \n",
            "__________________________________________________________________________________________________\n",
            "concatenate_1 (Concatenate)     (None, 16, 100, 128) 0           conv2d_transpose_1[0][0]         \n",
            "                                                                 conv2d_10[0][0]                  \n",
            "__________________________________________________________________________________________________\n",
            "conv2d_13 (Conv2D)              (None, 16, 100, 64)  73792       concatenate_1[0][0]              \n",
            "__________________________________________________________________________________________________\n",
            "conv2d_14 (Conv2D)              (None, 16, 100, 64)  36928       conv2d_13[0][0]                  \n",
            "__________________________________________________________________________________________________\n",
            "conv2d_transpose_2 (Conv2DTrans (None, 32, 200, 32)  8224        conv2d_14[0][0]                  \n",
            "__________________________________________________________________________________________________\n",
            "concatenate_2 (Concatenate)     (None, 32, 200, 96)  0           conv2d_transpose_2[0][0]         \n",
            "                                                                 conv2d_8[0][0]                   \n",
            "__________________________________________________________________________________________________\n",
            "conv2d_15 (Conv2D)              (None, 32, 200, 32)  27680       concatenate_2[0][0]              \n",
            "__________________________________________________________________________________________________\n",
            "conv2d_16 (Conv2D)              (None, 32, 200, 32)  9248        conv2d_15[0][0]                  \n",
            "__________________________________________________________________________________________________\n",
            "conv2d_transpose_3 (Conv2DTrans (None, 64, 400, 32)  4128        conv2d_16[0][0]                  \n",
            "__________________________________________________________________________________________________\n",
            "concatenate_3 (Concatenate)     (None, 64, 400, 64)  0           conv2d_transpose_3[0][0]         \n",
            "                                                                 conv2d_6[0][0]                   \n",
            "__________________________________________________________________________________________________\n",
            "conv2d_17 (Conv2D)              (None, 64, 400, 32)  18464       concatenate_3[0][0]              \n",
            "__________________________________________________________________________________________________\n",
            "conv2d_18 (Conv2D)              (None, 64, 400, 32)  9248        conv2d_17[0][0]                  \n",
            "__________________________________________________________________________________________________\n",
            "conv2d_transpose_4 (Conv2DTrans (None, 128, 800, 16) 2064        conv2d_18[0][0]                  \n",
            "__________________________________________________________________________________________________\n",
            "concatenate_4 (Concatenate)     (None, 128, 800, 32) 0           conv2d_transpose_4[0][0]         \n",
            "                                                                 conv2d_4[0][0]                   \n",
            "__________________________________________________________________________________________________\n",
            "conv2d_19 (Conv2D)              (None, 128, 800, 16) 4624        concatenate_4[0][0]              \n",
            "__________________________________________________________________________________________________\n",
            "conv2d_20 (Conv2D)              (None, 128, 800, 16) 2320        conv2d_19[0][0]                  \n",
            "__________________________________________________________________________________________________\n",
            "conv2d_transpose_5 (Conv2DTrans (None, 256, 1600, 8) 520         conv2d_20[0][0]                  \n",
            "__________________________________________________________________________________________________\n",
            "concatenate_5 (Concatenate)     (None, 256, 1600, 16 0           conv2d_transpose_5[0][0]         \n",
            "                                                                 conv2d_2[0][0]                   \n",
            "__________________________________________________________________________________________________\n",
            "conv2d_21 (Conv2D)              (None, 256, 1600, 8) 1160        concatenate_5[0][0]              \n",
            "__________________________________________________________________________________________________\n",
            "conv2d_22 (Conv2D)              (None, 256, 1600, 8) 584         conv2d_21[0][0]                  \n",
            "__________________________________________________________________________________________________\n",
            "conv2d_23 (Conv2D)              (None, 256, 1600, 4) 36          conv2d_22[0][0]                  \n",
            "==================================================================================================\n",
            "Total params: 600,612\n",
            "Trainable params: 600,612\n",
            "Non-trainable params: 0\n",
            "__________________________________________________________________________________________________\n"
          ],
          "name": "stdout"
        }
      ]
    },
    {
      "cell_type": "code",
      "metadata": {
        "id": "bLeJQDo4-Tw7"
      },
      "source": [
        "def mask2rle(img):\n",
        "    '''\n",
        "    img: numpy array, 1 - mask, 0 - background\n",
        "    Returns run length as string formated\n",
        "    '''\n",
        "    pixels= img.T.flatten()\n",
        "    pixels = np.concatenate([[0], pixels, [0]])\n",
        "    runs = np.where(pixels[1:] != pixels[:-1])[0] + 1\n",
        "    runs[1::2] -= runs[::2]\n",
        "    return ' '.join(str(x) for x in runs)\n",
        "\n",
        "def rle2mask(rle, input_shape):\n",
        "    width, height = input_shape[:2]\n",
        "    \n",
        "    mask= np.zeros( width*height ).astype(np.uint8)\n",
        "    \n",
        "    array = np.asarray([int(x) for x in rle.split()])\n",
        "    starts = array[0::2]\n",
        "    lengths = array[1::2]\n",
        "\n",
        "    current_position = 0\n",
        "    for index, start in enumerate(starts):\n",
        "        mask[int(start):int(start+lengths[index])] = 1\n",
        "        current_position += lengths[index]\n",
        "        \n",
        "    return mask.reshape(height, width).T\n",
        "\n",
        "def build_masks(rles, input_shape):\n",
        "    depth = len(rles)\n",
        "    masks = np.zeros((*input_shape, depth))\n",
        "    \n",
        "    for i, rle in enumerate(rles):\n",
        "        if type(rle) is str:\n",
        "            masks[:, :, i] = rle2mask(rle, input_shape)\n",
        "    \n",
        "    return masks\n",
        "\n",
        "def build_rles(masks):\n",
        "    width, height, depth = masks.shape\n",
        "    \n",
        "    rles = [mask2rle(masks[:, :, i])\n",
        "            for i in range(depth)]\n",
        "    \n",
        "    return rles"
      ],
      "execution_count": null,
      "outputs": []
    },
    {
      "cell_type": "code",
      "metadata": {
        "id": "dqOiFvfE-JiS",
        "colab": {
          "base_uri": "https://localhost:8080/",
          "height": 357
        },
        "outputId": "48e8cf54-1546-4cf6-e651-26d3fe3acd5a"
      },
      "source": [
        "checkpoint = ModelCheckpoint(\n",
        "    'model.h5', \n",
        "    monitor='val_loss', \n",
        "    verbose=0, \n",
        "    save_best_only=True, \n",
        "    save_weights_only=False,\n",
        "    mode='auto'\n",
        ")\n",
        "\n",
        "history = model.fit_generator(\n",
        "    train_generator,\n",
        "    validation_data=val_generator,\n",
        "    callbacks=[checkpoint],\n",
        "    use_multiprocessing=False,\n",
        "    workers=1,\n",
        "    epochs=10\n",
        ")"
      ],
      "execution_count": null,
      "outputs": [
        {
          "output_type": "stream",
          "text": [
            "Epoch 1/10\n",
            "354/354 [==============================] - 572s 2s/step - loss: 0.0371 - dice_coef: 0.0387 - val_loss: 0.0354 - val_dice_coef: 0.0498\n",
            "Epoch 2/10\n",
            "354/354 [==============================] - 179s 506ms/step - loss: 0.0343 - dice_coef: 0.0645 - val_loss: 0.0323 - val_dice_coef: 0.0805\n",
            "Epoch 3/10\n",
            "354/354 [==============================] - 185s 524ms/step - loss: 0.0297 - dice_coef: 0.1510 - val_loss: 0.0281 - val_dice_coef: 0.1910\n",
            "Epoch 4/10\n",
            "354/354 [==============================] - 186s 525ms/step - loss: 0.0263 - dice_coef: 0.2137 - val_loss: 0.0294 - val_dice_coef: 0.1397\n",
            "Epoch 5/10\n",
            "354/354 [==============================] - 179s 505ms/step - loss: 0.0246 - dice_coef: 0.2553 - val_loss: 0.0227 - val_dice_coef: 0.3101\n",
            "Epoch 6/10\n",
            "354/354 [==============================] - 178s 502ms/step - loss: 0.0225 - dice_coef: 0.3002 - val_loss: 0.0218 - val_dice_coef: 0.3299\n",
            "Epoch 7/10\n",
            "354/354 [==============================] - 180s 508ms/step - loss: 0.0217 - dice_coef: 0.3230 - val_loss: 0.0227 - val_dice_coef: 0.2811\n",
            "Epoch 8/10\n",
            "354/354 [==============================] - 180s 508ms/step - loss: 0.0211 - dice_coef: 0.3283 - val_loss: 0.0196 - val_dice_coef: 0.3852\n",
            "Epoch 9/10\n",
            "354/354 [==============================] - 180s 508ms/step - loss: 0.0202 - dice_coef: 0.3513 - val_loss: 0.0196 - val_dice_coef: 0.4147\n",
            "Epoch 10/10\n",
            "354/354 [==============================] - 181s 512ms/step - loss: 0.0202 - dice_coef: 0.3510 - val_loss: 0.0193 - val_dice_coef: 0.3605\n"
          ],
          "name": "stdout"
        }
      ]
    },
    {
      "cell_type": "code",
      "metadata": {
        "id": "wdVzKNdHGo-c",
        "colab": {
          "base_uri": "https://localhost:8080/",
          "height": 530
        },
        "outputId": "7ffcfeb3-6e4c-4964-88c2-718b2a18f9e8"
      },
      "source": [
        "with open('history.json', 'w') as f:\n",
        "    json.dump(history.history, f)\n",
        "\n",
        "history_df = pd.DataFrame(history.history)\n",
        "history_df[['loss', 'val_loss']].plot()\n",
        "history_df[['dice_coef', 'val_dice_coef']].plot()"
      ],
      "execution_count": null,
      "outputs": [
        {
          "output_type": "execute_result",
          "data": {
            "text/plain": [
              "<matplotlib.axes._subplots.AxesSubplot at 0x7fde84c81588>"
            ]
          },
          "metadata": {
            "tags": []
          },
          "execution_count": 17
        },
        {
          "output_type": "display_data",
          "data": {
            "image/png": "[encoded data removed]",
            "text/plain": [
              "<Figure size 432x288 with 1 Axes>"
            ]
          },
          "metadata": {
            "tags": []
          }
        },
        {
          "output_type": "display_data",
          "data": {
            "image/png": "[encoded data removed]",
            "text/plain": [
              "<Figure size 432x288 with 1 Axes>"
            ]
          },
          "metadata": {
            "tags": []
          }
        }
      ]
    },
    {
      "cell_type": "code",
      "metadata": {
        "id": "esmwYGQnU3CV",
        "colab": {
          "base_uri": "https://localhost:8080/",
          "height": 679
        },
        "outputId": "eb86790c-292e-4067-f92d-65ec023009aa"
      },
      "source": [
        "remove_model = load_model('/content/drive/My Drive/Colab Notebooks/model (2).h5')\n",
        "remove_model.summary()"
      ],
      "execution_count": null,
      "outputs": [
        {
          "output_type": "stream",
          "text": [
            "WARNING:tensorflow:From /usr/local/lib/python3.6/dist-packages/keras/backend/tensorflow_backend.py:2041: The name tf.nn.fused_batch_norm is deprecated. Please use tf.compat.v1.nn.fused_batch_norm instead.\n",
            "\n",
            "WARNING:tensorflow:From /usr/local/lib/python3.6/dist-packages/keras/backend/tensorflow_backend.py:148: The name tf.placeholder_with_default is deprecated. Please use tf.compat.v1.placeholder_with_default instead.\n",
            "\n",
            "WARNING:tensorflow:From /usr/local/lib/python3.6/dist-packages/keras/backend/tensorflow_backend.py:4271: The name tf.nn.avg_pool is deprecated. Please use tf.nn.avg_pool2d instead.\n",
            "\n",
            "WARNING:tensorflow:From /usr/local/lib/python3.6/dist-packages/keras/backend/tensorflow_backend.py:3733: calling dropout (from tensorflow.python.ops.nn_ops) with keep_prob is deprecated and will be removed in a future version.\n",
            "Instructions for updating:\n",
            "Please use `rate` instead of `keep_prob`. Rate should be set to `rate = 1 - keep_prob`.\n",
            "WARNING:tensorflow:From /usr/local/lib/python3.6/dist-packages/keras/backend/tensorflow_backend.py:1033: The name tf.assign_add is deprecated. Please use tf.compat.v1.assign_add instead.\n",
            "\n",
            "WARNING:tensorflow:From /usr/local/lib/python3.6/dist-packages/keras/backend/tensorflow_backend.py:1020: The name tf.assign is deprecated. Please use tf.compat.v1.assign instead.\n",
            "\n",
            "Model: \"sequential_1\"\n",
            "_________________________________________________________________\n",
            "Layer (type)                 Output Shape              Param #   \n",
            "=================================================================\n",
            "densenet121 (Model)          (None, 8, 8, 1024)        7037504   \n",
            "_________________________________________________________________\n",
            "global_average_pooling2d_1 ( (None, 1024)              0         \n",
            "_________________________________________________________________\n",
            "batch_normalization_1 (Batch (None, 1024)              4096      \n",
            "_________________________________________________________________\n",
            "dropout_1 (Dropout)          (None, 1024)              0         \n",
            "_________________________________________________________________\n",
            "dense_1 (Dense)              (None, 512)               524800    \n",
            "_________________________________________________________________\n",
            "batch_normalization_2 (Batch (None, 512)               2048      \n",
            "_________________________________________________________________\n",
            "dropout_2 (Dropout)          (None, 512)               0         \n",
            "_________________________________________________________________\n",
            "dense_2 (Dense)              (None, 1)                 513       \n",
            "=================================================================\n",
            "Total params: 7,568,961\n",
            "Trainable params: 7,482,241\n",
            "Non-trainable params: 86,720\n",
            "_________________________________________________________________\n"
          ],
          "name": "stdout"
        }
      ]
    },
    {
      "cell_type": "code",
      "metadata": {
        "id": "aEufy_t33f1f",
        "colab": {
          "base_uri": "https://localhost:8080/",
          "height": 219
        },
        "outputId": "034fd6eb-91ba-4ec4-82a6-6dff431b1b15"
      },
      "source": [
        "test_missing_pred = remove_model.predict_generator(\n",
        "    test_gen,\n",
        "    steps=len(test_gen),\n",
        "    verbose=1\n",
        ")\n",
        "\n",
        "test_imgs['allMissing'] = test_missing_pred\n",
        "test_imgs.head()\n"
      ],
      "execution_count": null,
      "outputs": [
        {
          "output_type": "stream",
          "text": [
            "29/29 [==============================] - 507s 17s/step\n"
          ],
          "name": "stdout"
        },
        {
          "output_type": "execute_result",
          "data": {
            "text/html": [
              "<div>\n",
              "<style scoped>\n",
              "    .dataframe tbody tr th:only-of-type {\n",
              "        vertical-align: middle;\n",
              "    }\n",
              "\n",
              "    .dataframe tbody tr th {\n",
              "        vertical-align: top;\n",
              "    }\n",
              "\n",
              "    .dataframe thead th {\n",
              "        text-align: right;\n",
              "    }\n",
              "</style>\n",
              "<table border=\"1\" class=\"dataframe\">\n",
              "  <thead>\n",
              "    <tr style=\"text-align: right;\">\n",
              "      <th></th>\n",
              "      <th>ImageId</th>\n",
              "      <th>allMissing</th>\n",
              "    </tr>\n",
              "  </thead>\n",
              "  <tbody>\n",
              "    <tr>\n",
              "      <th>0</th>\n",
              "      <td>004f40c73.jpg</td>\n",
              "      <td>0.535308</td>\n",
              "    </tr>\n",
              "    <tr>\n",
              "      <th>1</th>\n",
              "      <td>006f39c41.jpg</td>\n",
              "      <td>0.999956</td>\n",
              "    </tr>\n",
              "    <tr>\n",
              "      <th>2</th>\n",
              "      <td>00b7fb703.jpg</td>\n",
              "      <td>0.997788</td>\n",
              "    </tr>\n",
              "    <tr>\n",
              "      <th>3</th>\n",
              "      <td>00bbcd9af.jpg</td>\n",
              "      <td>0.000324</td>\n",
              "    </tr>\n",
              "    <tr>\n",
              "      <th>4</th>\n",
              "      <td>0108ce457.jpg</td>\n",
              "      <td>0.114875</td>\n",
              "    </tr>\n",
              "  </tbody>\n",
              "</table>\n",
              "</div>"
            ],
            "text/plain": [
              "         ImageId  allMissing\n",
              "0  004f40c73.jpg    0.535308\n",
              "1  006f39c41.jpg    0.999956\n",
              "2  00b7fb703.jpg    0.997788\n",
              "3  00bbcd9af.jpg    0.000324\n",
              "4  0108ce457.jpg    0.114875"
            ]
          },
          "metadata": {
            "tags": []
          },
          "execution_count": 39
        }
      ]
    },
    {
      "cell_type": "code",
      "metadata": {
        "id": "6DpBas8M3f8g",
        "colab": {
          "base_uri": "https://localhost:8080/",
          "height": 219
        },
        "outputId": "514f053d-cb56-48d3-9430-08da7ace499c"
      },
      "source": [
        "filtered_test_imgs = test_imgs[test_imgs['allMissing'] < 0.5]\n",
        "print(filtered_test_imgs.shape)\n",
        "filtered_test_imgs.head()"
      ],
      "execution_count": null,
      "outputs": [
        {
          "output_type": "stream",
          "text": [
            "(721, 2)\n"
          ],
          "name": "stdout"
        },
        {
          "output_type": "execute_result",
          "data": {
            "text/html": [
              "<div>\n",
              "<style scoped>\n",
              "    .dataframe tbody tr th:only-of-type {\n",
              "        vertical-align: middle;\n",
              "    }\n",
              "\n",
              "    .dataframe tbody tr th {\n",
              "        vertical-align: top;\n",
              "    }\n",
              "\n",
              "    .dataframe thead th {\n",
              "        text-align: right;\n",
              "    }\n",
              "</style>\n",
              "<table border=\"1\" class=\"dataframe\">\n",
              "  <thead>\n",
              "    <tr style=\"text-align: right;\">\n",
              "      <th></th>\n",
              "      <th>ImageId</th>\n",
              "      <th>allMissing</th>\n",
              "    </tr>\n",
              "  </thead>\n",
              "  <tbody>\n",
              "    <tr>\n",
              "      <th>3</th>\n",
              "      <td>00bbcd9af.jpg</td>\n",
              "      <td>0.000324</td>\n",
              "    </tr>\n",
              "    <tr>\n",
              "      <th>4</th>\n",
              "      <td>0108ce457.jpg</td>\n",
              "      <td>0.114875</td>\n",
              "    </tr>\n",
              "    <tr>\n",
              "      <th>6</th>\n",
              "      <td>010ec96b4.jpg</td>\n",
              "      <td>0.000624</td>\n",
              "    </tr>\n",
              "    <tr>\n",
              "      <th>8</th>\n",
              "      <td>017bd7ce3.jpg</td>\n",
              "      <td>0.042616</td>\n",
              "    </tr>\n",
              "    <tr>\n",
              "      <th>9</th>\n",
              "      <td>01b47d973.jpg</td>\n",
              "      <td>0.022378</td>\n",
              "    </tr>\n",
              "  </tbody>\n",
              "</table>\n",
              "</div>"
            ],
            "text/plain": [
              "         ImageId  allMissing\n",
              "3  00bbcd9af.jpg    0.000324\n",
              "4  0108ce457.jpg    0.114875\n",
              "6  010ec96b4.jpg    0.000624\n",
              "8  017bd7ce3.jpg    0.042616\n",
              "9  01b47d973.jpg    0.022378"
            ]
          },
          "metadata": {
            "tags": []
          },
          "execution_count": 40
        }
      ]
    },
    {
      "cell_type": "code",
      "metadata": {
        "id": "UquOmvcH39bO",
        "colab": {
          "base_uri": "https://localhost:8080/",
          "height": 237
        },
        "outputId": "074328a5-3195-49ac-f002-659357697520"
      },
      "source": [
        "filtered_mask = sub_df['ImageId'].isin(filtered_test_imgs[\"ImageId\"].values)\n",
        "filtered_sub_df = sub_df[filtered_mask].copy()\n",
        "null_sub_df = sub_df[~filtered_mask].copy()\n",
        "null_sub_df['EncodedPixels'] = null_sub_df['EncodedPixels'].apply(\n",
        "    lambda x: ' ')\n",
        "\n",
        "filtered_sub_df.reset_index(drop=True, inplace=True)\n",
        "filtered_test_imgs.reset_index(drop=True, inplace=True)\n",
        "\n",
        "print(filtered_sub_df.shape)\n",
        "print(null_sub_df.shape)\n",
        "\n",
        "filtered_sub_df.head()"
      ],
      "execution_count": null,
      "outputs": [
        {
          "output_type": "stream",
          "text": [
            "(2884, 3)\n",
            "(4320, 3)\n"
          ],
          "name": "stdout"
        },
        {
          "output_type": "execute_result",
          "data": {
            "text/html": [
              "<div>\n",
              "<style scoped>\n",
              "    .dataframe tbody tr th:only-of-type {\n",
              "        vertical-align: middle;\n",
              "    }\n",
              "\n",
              "    .dataframe tbody tr th {\n",
              "        vertical-align: top;\n",
              "    }\n",
              "\n",
              "    .dataframe thead th {\n",
              "        text-align: right;\n",
              "    }\n",
              "</style>\n",
              "<table border=\"1\" class=\"dataframe\">\n",
              "  <thead>\n",
              "    <tr style=\"text-align: right;\">\n",
              "      <th></th>\n",
              "      <th>ImageId_ClassId</th>\n",
              "      <th>EncodedPixels</th>\n",
              "      <th>ImageId</th>\n",
              "    </tr>\n",
              "  </thead>\n",
              "  <tbody>\n",
              "    <tr>\n",
              "      <th>0</th>\n",
              "      <td>00bbcd9af.jpg_1</td>\n",
              "      <td>1 1</td>\n",
              "      <td>00bbcd9af.jpg</td>\n",
              "    </tr>\n",
              "    <tr>\n",
              "      <th>1</th>\n",
              "      <td>00bbcd9af.jpg_2</td>\n",
              "      <td>1 1</td>\n",
              "      <td>00bbcd9af.jpg</td>\n",
              "    </tr>\n",
              "    <tr>\n",
              "      <th>2</th>\n",
              "      <td>00bbcd9af.jpg_3</td>\n",
              "      <td>1 1</td>\n",
              "      <td>00bbcd9af.jpg</td>\n",
              "    </tr>\n",
              "    <tr>\n",
              "      <th>3</th>\n",
              "      <td>00bbcd9af.jpg_4</td>\n",
              "      <td>1 1</td>\n",
              "      <td>00bbcd9af.jpg</td>\n",
              "    </tr>\n",
              "    <tr>\n",
              "      <th>4</th>\n",
              "      <td>0108ce457.jpg_1</td>\n",
              "      <td>1 1</td>\n",
              "      <td>0108ce457.jpg</td>\n",
              "    </tr>\n",
              "  </tbody>\n",
              "</table>\n",
              "</div>"
            ],
            "text/plain": [
              "   ImageId_ClassId EncodedPixels        ImageId\n",
              "0  00bbcd9af.jpg_1           1 1  00bbcd9af.jpg\n",
              "1  00bbcd9af.jpg_2           1 1  00bbcd9af.jpg\n",
              "2  00bbcd9af.jpg_3           1 1  00bbcd9af.jpg\n",
              "3  00bbcd9af.jpg_4           1 1  00bbcd9af.jpg\n",
              "4  0108ce457.jpg_1           1 1  0108ce457.jpg"
            ]
          },
          "metadata": {
            "tags": []
          },
          "execution_count": 41
        }
      ]
    },
    {
      "cell_type": "code",
      "metadata": {
        "id": "ndqHv5q94CT-"
      },
      "source": [
        ""
      ],
      "execution_count": null,
      "outputs": []
    },
    {
      "cell_type": "code",
      "metadata": {
        "id": "vxD3IWeIUFFi",
        "colab": {
          "base_uri": "https://localhost:8080/",
          "height": 121
        },
        "outputId": "0a3cfe65-a9f5-49ae-b456-02ae48622d31"
      },
      "source": [
        "model.load_weights('/content/model.h5')\n",
        "test_df = []\n",
        "\n",
        "for i in range(0, filtered_test_imgs.shape[0], 300):\n",
        "    batch_idx = list(\n",
        "        range(i, min(filtered_test_imgs.shape[0], i + 300))\n",
        "    )\n",
        "    \n",
        "    test_generator = DataGenerator(\n",
        "        batch_idx,\n",
        "        df=filtered_test_imgs,\n",
        "        shuffle=False,\n",
        "        mode='predict',\n",
        "        base_path='/content/drive/My Drive/Colab Notebooks/test_images',\n",
        "        target_df=filtered_sub_df,\n",
        "        batch_size=1,\n",
        "        n_classes=4\n",
        "    )\n",
        "    \n",
        "    batch_pred_masks = model.predict_generator(\n",
        "        test_generator, \n",
        "        workers=1,\n",
        "        verbose=1,\n",
        "        use_multiprocessing=False\n",
        "    )\n",
        "    \n",
        "    for j, b in tqdm(enumerate(batch_idx)):\n",
        "        filename = filtered_test_imgs['ImageId'].iloc[b]\n",
        "        image_df = filtered_sub_df[filtered_sub_df['ImageId'] == filename].copy()\n",
        "        \n",
        "        pred_masks = batch_pred_masks[j, ].round().astype(int)\n",
        "        pred_rles = build_rles(pred_masks)\n",
        "        \n",
        "        image_df['EncodedPixels'] = pred_rles\n",
        "        test_df.append(image_df)\n",
        "        \n",
        "    gc.collect()"
      ],
      "execution_count": null,
      "outputs": [
        {
          "output_type": "stream",
          "text": [
            "300/300 [==============================] - 5s 16ms/step\n"
          ],
          "name": "stdout"
        },
        {
          "output_type": "stream",
          "text": [
            "300it [00:05, 51.33it/s]"
          ],
          "name": "stderr"
        },
        {
          "output_type": "stream",
          "text": [
            " 11/300 [>.............................] - ETA: 3s"
          ],
          "name": "stdout"
        },
        {
          "output_type": "stream",
          "text": [
            "\n"
          ],
          "name": "stderr"
        },
        {
          "output_type": "stream",
          "text": [
            "300/300 [==============================] - 4s 12ms/step\n"
          ],
          "name": "stdout"
        },
        {
          "output_type": "stream",
          "text": [
            "300it [00:06, 49.81it/s]\n"
          ],
          "name": "stderr"
        },
        {
          "output_type": "stream",
          "text": [
            "121/121 [==============================] - 2s 13ms/step\n"
          ],
          "name": "stdout"
        },
        {
          "output_type": "stream",
          "text": [
            "121it [00:02, 48.58it/s]\n"
          ],
          "name": "stderr"
        }
      ]
    },
    {
      "cell_type": "code",
      "metadata": {
        "id": "VT0swUpknHqf"
      },
      "source": [
        ""
      ],
      "execution_count": null,
      "outputs": []
    },
    {
      "cell_type": "code",
      "metadata": {
        "id": "HiqXa_Kxqo-1",
        "colab": {
          "base_uri": "https://localhost:8080/",
          "height": 219
        },
        "outputId": "cc2bbe46-4695-468b-89ad-022d6a2b7ae5"
      },
      "source": [
        "test_df = pd.concat(test_df)\n",
        "print(test_df.shape)\n",
        "test_df.head()"
      ],
      "execution_count": null,
      "outputs": [
        {
          "output_type": "stream",
          "text": [
            "(2884, 3)\n"
          ],
          "name": "stdout"
        },
        {
          "output_type": "execute_result",
          "data": {
            "text/html": [
              "<div>\n",
              "<style scoped>\n",
              "    .dataframe tbody tr th:only-of-type {\n",
              "        vertical-align: middle;\n",
              "    }\n",
              "\n",
              "    .dataframe tbody tr th {\n",
              "        vertical-align: top;\n",
              "    }\n",
              "\n",
              "    .dataframe thead th {\n",
              "        text-align: right;\n",
              "    }\n",
              "</style>\n",
              "<table border=\"1\" class=\"dataframe\">\n",
              "  <thead>\n",
              "    <tr style=\"text-align: right;\">\n",
              "      <th></th>\n",
              "      <th>ImageId_ClassId</th>\n",
              "      <th>EncodedPixels</th>\n",
              "      <th>ImageId</th>\n",
              "    </tr>\n",
              "  </thead>\n",
              "  <tbody>\n",
              "    <tr>\n",
              "      <th>0</th>\n",
              "      <td>00bbcd9af.jpg_1</td>\n",
              "      <td></td>\n",
              "      <td>00bbcd9af.jpg</td>\n",
              "    </tr>\n",
              "    <tr>\n",
              "      <th>1</th>\n",
              "      <td>00bbcd9af.jpg_2</td>\n",
              "      <td></td>\n",
              "      <td>00bbcd9af.jpg</td>\n",
              "    </tr>\n",
              "    <tr>\n",
              "      <th>2</th>\n",
              "      <td>00bbcd9af.jpg_3</td>\n",
              "      <td>156107 1 156109 1 156111 1 156113 39 156352 1 ...</td>\n",
              "      <td>00bbcd9af.jpg</td>\n",
              "    </tr>\n",
              "    <tr>\n",
              "      <th>3</th>\n",
              "      <td>00bbcd9af.jpg_4</td>\n",
              "      <td></td>\n",
              "      <td>00bbcd9af.jpg</td>\n",
              "    </tr>\n",
              "    <tr>\n",
              "      <th>4</th>\n",
              "      <td>0108ce457.jpg_1</td>\n",
              "      <td></td>\n",
              "      <td>0108ce457.jpg</td>\n",
              "    </tr>\n",
              "  </tbody>\n",
              "</table>\n",
              "</div>"
            ],
            "text/plain": [
              "   ImageId_ClassId  ...        ImageId\n",
              "0  00bbcd9af.jpg_1  ...  00bbcd9af.jpg\n",
              "1  00bbcd9af.jpg_2  ...  00bbcd9af.jpg\n",
              "2  00bbcd9af.jpg_3  ...  00bbcd9af.jpg\n",
              "3  00bbcd9af.jpg_4  ...  00bbcd9af.jpg\n",
              "4  0108ce457.jpg_1  ...  0108ce457.jpg\n",
              "\n",
              "[5 rows x 3 columns]"
            ]
          },
          "metadata": {
            "tags": []
          },
          "execution_count": 44
        }
      ]
    },
    {
      "cell_type": "code",
      "metadata": {
        "id": "rJ3cGQTL6Ttq",
        "colab": {
          "base_uri": "https://localhost:8080/",
          "height": 219
        },
        "outputId": "3e3dd060-ca71-4692-ebc3-6325bf55df36"
      },
      "source": [
        "final_submission_df = pd.concat([test_df, null_sub_df])\n",
        "print(final_submission_df.shape)\n",
        "final_submission_df.head()"
      ],
      "execution_count": null,
      "outputs": [
        {
          "output_type": "stream",
          "text": [
            "(7204, 3)\n"
          ],
          "name": "stdout"
        },
        {
          "output_type": "execute_result",
          "data": {
            "text/html": [
              "<div>\n",
              "<style scoped>\n",
              "    .dataframe tbody tr th:only-of-type {\n",
              "        vertical-align: middle;\n",
              "    }\n",
              "\n",
              "    .dataframe tbody tr th {\n",
              "        vertical-align: top;\n",
              "    }\n",
              "\n",
              "    .dataframe thead th {\n",
              "        text-align: right;\n",
              "    }\n",
              "</style>\n",
              "<table border=\"1\" class=\"dataframe\">\n",
              "  <thead>\n",
              "    <tr style=\"text-align: right;\">\n",
              "      <th></th>\n",
              "      <th>ImageId_ClassId</th>\n",
              "      <th>EncodedPixels</th>\n",
              "      <th>ImageId</th>\n",
              "    </tr>\n",
              "  </thead>\n",
              "  <tbody>\n",
              "    <tr>\n",
              "      <th>0</th>\n",
              "      <td>00bbcd9af.jpg_1</td>\n",
              "      <td></td>\n",
              "      <td>00bbcd9af.jpg</td>\n",
              "    </tr>\n",
              "    <tr>\n",
              "      <th>1</th>\n",
              "      <td>00bbcd9af.jpg_2</td>\n",
              "      <td></td>\n",
              "      <td>00bbcd9af.jpg</td>\n",
              "    </tr>\n",
              "    <tr>\n",
              "      <th>2</th>\n",
              "      <td>00bbcd9af.jpg_3</td>\n",
              "      <td>156107 1 156109 1 156111 1 156113 39 156352 1 ...</td>\n",
              "      <td>00bbcd9af.jpg</td>\n",
              "    </tr>\n",
              "    <tr>\n",
              "      <th>3</th>\n",
              "      <td>00bbcd9af.jpg_4</td>\n",
              "      <td></td>\n",
              "      <td>00bbcd9af.jpg</td>\n",
              "    </tr>\n",
              "    <tr>\n",
              "      <th>4</th>\n",
              "      <td>0108ce457.jpg_1</td>\n",
              "      <td></td>\n",
              "      <td>0108ce457.jpg</td>\n",
              "    </tr>\n",
              "  </tbody>\n",
              "</table>\n",
              "</div>"
            ],
            "text/plain": [
              "   ImageId_ClassId  ...        ImageId\n",
              "0  00bbcd9af.jpg_1  ...  00bbcd9af.jpg\n",
              "1  00bbcd9af.jpg_2  ...  00bbcd9af.jpg\n",
              "2  00bbcd9af.jpg_3  ...  00bbcd9af.jpg\n",
              "3  00bbcd9af.jpg_4  ...  00bbcd9af.jpg\n",
              "4  0108ce457.jpg_1  ...  0108ce457.jpg\n",
              "\n",
              "[5 rows x 3 columns]"
            ]
          },
          "metadata": {
            "tags": []
          },
          "execution_count": 45
        }
      ]
    },
    {
      "cell_type": "code",
      "metadata": {
        "id": "WzVhuoah6ZQ6"
      },
      "source": [
        "final_submission_df[['ImageId_ClassId', 'EncodedPixels']].to_csv('submission.csv', index=False)"
      ],
      "execution_count": null,
      "outputs": []
    },
    {
      "cell_type": "code",
      "metadata": {
        "id": "tYXTUfPQ6c9i",
        "colab": {
          "base_uri": "https://localhost:8080/",
          "height": 415
        },
        "outputId": "90fc8a4c-ed0b-4ef0-f1d7-fae9a325221f"
      },
      "source": [
        "test_df"
      ],
      "execution_count": null,
      "outputs": [
        {
          "output_type": "execute_result",
          "data": {
            "text/html": [
              "<div>\n",
              "<style scoped>\n",
              "    .dataframe tbody tr th:only-of-type {\n",
              "        vertical-align: middle;\n",
              "    }\n",
              "\n",
              "    .dataframe tbody tr th {\n",
              "        vertical-align: top;\n",
              "    }\n",
              "\n",
              "    .dataframe thead th {\n",
              "        text-align: right;\n",
              "    }\n",
              "</style>\n",
              "<table border=\"1\" class=\"dataframe\">\n",
              "  <thead>\n",
              "    <tr style=\"text-align: right;\">\n",
              "      <th></th>\n",
              "      <th>ImageId_ClassId</th>\n",
              "      <th>EncodedPixels</th>\n",
              "      <th>ImageId</th>\n",
              "    </tr>\n",
              "  </thead>\n",
              "  <tbody>\n",
              "    <tr>\n",
              "      <th>0</th>\n",
              "      <td>00bbcd9af.jpg_1</td>\n",
              "      <td></td>\n",
              "      <td>00bbcd9af.jpg</td>\n",
              "    </tr>\n",
              "    <tr>\n",
              "      <th>1</th>\n",
              "      <td>00bbcd9af.jpg_2</td>\n",
              "      <td></td>\n",
              "      <td>00bbcd9af.jpg</td>\n",
              "    </tr>\n",
              "    <tr>\n",
              "      <th>2</th>\n",
              "      <td>00bbcd9af.jpg_3</td>\n",
              "      <td>156107 1 156109 1 156111 1 156113 39 156352 1 ...</td>\n",
              "      <td>00bbcd9af.jpg</td>\n",
              "    </tr>\n",
              "    <tr>\n",
              "      <th>3</th>\n",
              "      <td>00bbcd9af.jpg_4</td>\n",
              "      <td></td>\n",
              "      <td>00bbcd9af.jpg</td>\n",
              "    </tr>\n",
              "    <tr>\n",
              "      <th>4</th>\n",
              "      <td>0108ce457.jpg_1</td>\n",
              "      <td></td>\n",
              "      <td>0108ce457.jpg</td>\n",
              "    </tr>\n",
              "    <tr>\n",
              "      <th>...</th>\n",
              "      <td>...</td>\n",
              "      <td>...</td>\n",
              "      <td>...</td>\n",
              "    </tr>\n",
              "    <tr>\n",
              "      <th>2879</th>\n",
              "      <td>ffc9a6187.jpg_4</td>\n",
              "      <td></td>\n",
              "      <td>ffc9a6187.jpg</td>\n",
              "    </tr>\n",
              "    <tr>\n",
              "      <th>2880</th>\n",
              "      <td>ffdb60677.jpg_1</td>\n",
              "      <td></td>\n",
              "      <td>ffdb60677.jpg</td>\n",
              "    </tr>\n",
              "    <tr>\n",
              "      <th>2881</th>\n",
              "      <td>ffdb60677.jpg_2</td>\n",
              "      <td></td>\n",
              "      <td>ffdb60677.jpg</td>\n",
              "    </tr>\n",
              "    <tr>\n",
              "      <th>2882</th>\n",
              "      <td>ffdb60677.jpg_3</td>\n",
              "      <td>338227 1 338482 5 338737 8 338992 10 339248 10...</td>\n",
              "      <td>ffdb60677.jpg</td>\n",
              "    </tr>\n",
              "    <tr>\n",
              "      <th>2883</th>\n",
              "      <td>ffdb60677.jpg_4</td>\n",
              "      <td></td>\n",
              "      <td>ffdb60677.jpg</td>\n",
              "    </tr>\n",
              "  </tbody>\n",
              "</table>\n",
              "<p>2884 rows × 3 columns</p>\n",
              "</div>"
            ],
            "text/plain": [
              "      ImageId_ClassId  ...        ImageId\n",
              "0     00bbcd9af.jpg_1  ...  00bbcd9af.jpg\n",
              "1     00bbcd9af.jpg_2  ...  00bbcd9af.jpg\n",
              "2     00bbcd9af.jpg_3  ...  00bbcd9af.jpg\n",
              "3     00bbcd9af.jpg_4  ...  00bbcd9af.jpg\n",
              "4     0108ce457.jpg_1  ...  0108ce457.jpg\n",
              "...               ...  ...            ...\n",
              "2879  ffc9a6187.jpg_4  ...  ffc9a6187.jpg\n",
              "2880  ffdb60677.jpg_1  ...  ffdb60677.jpg\n",
              "2881  ffdb60677.jpg_2  ...  ffdb60677.jpg\n",
              "2882  ffdb60677.jpg_3  ...  ffdb60677.jpg\n",
              "2883  ffdb60677.jpg_4  ...  ffdb60677.jpg\n",
              "\n",
              "[2884 rows x 3 columns]"
            ]
          },
          "metadata": {
            "tags": []
          },
          "execution_count": 48
        }
      ]
    },
    {
      "cell_type": "code",
      "metadata": {
        "id": "d4b5kwjq6gGo",
        "colab": {
          "base_uri": "https://localhost:8080/",
          "height": 678
        },
        "outputId": "25f0d3be-d90d-40d9-d4be-173b5105f0b4"
      },
      "source": [
        "sample_filename = 'db4867ee8.jpg'\n",
        "sample_image_df = train_df[train_df['ImageId'] == sample_filename]\n",
        "sample_path = f\"/content/drive/My Drive/Colab Notebooks/train_images/{sample_image_df['ImageId'].iloc[0]}\"\n",
        "sample_img = cv2.imread(sample_path)\n",
        "sample_rles = sample_image_df['EncodedPixels'].values\n",
        "sample_masks = build_masks(sample_rles, input_shape=(256, 1600))\n",
        "\n",
        "fig, axs = plt.subplots(5, figsize=(12, 12))\n",
        "axs[0].imshow(sample_img)\n",
        "axs[0].axis('off')\n",
        "\n",
        "for i in range(4):\n",
        "    axs[i+1].imshow(sample_masks[:, :, i])\n",
        "    axs[i+1].axis('off')"
      ],
      "execution_count": null,
      "outputs": [
        {
          "output_type": "display_data",
          "data": {
            "image/png": "[encoded data removed]",
            "text/plain": [
              "<Figure size 864x864 with 5 Axes>"
            ]
          },
          "metadata": {
            "tags": []
          }
        }
      ]
    },
    {
      "cell_type": "code",
      "metadata": {
        "id": "t_VARTvPDAQ3"
      },
      "source": [
        "#model.h5-->enoded pixel-->dataframe-->this code(dont trash the function)\n",
        "\n",
        "sample_filename = 'db4867ee8.jpg'\n",
        "sample_image_df = train_df[train_df['ImageId'] == sample_filename]\n",
        "sample_path = f\"/content/drive/My Drive/Colab Notebooks/train_images/{sample_image_df['ImageId'].iloc[0]}\"\n",
        "sample_img = cv2.imread(sample_path)\n",
        "sample_rles = sample_image_df['EncodedPixels'].values\n",
        "sample_masks = build_masks(sample_rles, input_shape=(256, 1600))\n",
        "\n",
        "fig, axs = plt.subplots(5, figsize=(12, 12))\n",
        "axs[0].imshow(sample_img)\n",
        "axs[0].axis('off')\n",
        "\n",
        "for i in range(4):\n",
        "    axs[i+1].imshow(sample_masks[:, :, i])\n",
        "    axs[i+1].axis('off')"
      ],
      "execution_count": null,
      "outputs": []
    }
  ]
}